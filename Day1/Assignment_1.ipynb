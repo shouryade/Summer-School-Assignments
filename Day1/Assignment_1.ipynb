{
  "nbformat": 4,
  "nbformat_minor": 0,
  "metadata": {
    "colab": {
      "provenance": [],
      "authorship_tag": "ABX9TyP7hwwEECrF15LdmyUl3yAV",
      "include_colab_link": true
    },
    "kernelspec": {
      "name": "python3",
      "display_name": "Python 3"
    },
    "language_info": {
      "name": "python"
    }
  },
  "cells": [
    {
      "cell_type": "markdown",
      "metadata": {
        "id": "view-in-github",
        "colab_type": "text"
      },
      "source": [
        "<a href=\"https://colab.research.google.com/github/shouryade/Summer-School-Assignments/blob/main/Day1/Assignment_1.ipynb\" target=\"_parent\"><img src=\"https://colab.research.google.com/assets/colab-badge.svg\" alt=\"Open In Colab\"/></a>"
      ]
    },
    {
      "cell_type": "markdown",
      "source": [
        "L is a list defined as L= [11, 12, 13, 14]. Perform the following operations."
      ],
      "metadata": {
        "id": "glcJb1Tn0_JM"
      }
    },
    {
      "cell_type": "code",
      "execution_count": 1,
      "metadata": {
        "id": "vEcuBfdo0s-d"
      },
      "outputs": [],
      "source": [
        "\n",
        "# (i) WAP to add 50 and 60 to L.\n",
        "L = [11, 12, 13, 14]\n",
        "L.append(50)\n",
        "L.append(60)\n",
        "\n",
        "# (ii) WAP to remove 11 and 13 from L.\n",
        "L = [11, 12, 13, 14]\n",
        "L.remove(11)\n",
        "L.remove(13)\n",
        "\n",
        "# (iii) WAP to sort L in ascending order.\n",
        "L = [11, 12, 13, 14]\n",
        "L.sort()\n",
        "\n",
        "# (iv) WAP to sort L in descending order.\n",
        "L = [11, 12, 13, 14]\n",
        "L.sort(reverse=True)\n",
        "\n",
        "# (v) WAP to search for 13 in L.\n",
        "L = [11, 12, 13, 14]\n",
        "found = 13 in L\n",
        "\n",
        "# (vi) WAP to count the number of elements present in L.\n",
        "L = [11, 12, 13, 14]\n",
        "count = len(L)\n",
        "\n",
        "# (vii) WAP to sum all the elements in L.\n",
        "L = [11, 12, 13, 14]\n",
        "sum_elements = sum(L)\n",
        "\n",
        "# (viii) WAP to sum all ODD numbers in L.\n",
        "L = [11, 12, 13, 14]\n",
        "sum_odd = sum(num for num in L if num % 2 != 0)\n",
        "\n",
        "# (ix) WAP to sum all EVEN numbers in L.\n",
        "L = [11, 12, 13, 14]\n",
        "sum_even = sum(num for num in L if num % 2 == 0)\n",
        "\n",
        "# (x) WAP to sum all PRIME numbers in L.\n",
        "L = [11, 12, 13, 14]\n",
        "def is_prime(num):\n",
        "    if num < 2:\n",
        "        return False\n",
        "    for i in range(2, int(num ** 0.5) + 1):\n",
        "        if num % i == 0:\n",
        "            return False\n",
        "    return True\n",
        "\n",
        "sum_prime = sum(num for num in L if is_prime(num))\n",
        "\n",
        "# (xi) WAP to clear all the elements in L.\n",
        "L = [11, 12, 13, 14]\n",
        "L.clear()\n",
        "\n",
        "# (xii) WAP to delete L.\n",
        "L = [11, 12, 13, 14]\n",
        "\n"
      ]
    },
    {
      "cell_type": "markdown",
      "source": [
        "D = {1: 5.6, 2: 7.8, 3: 6.6, 4: 8.7, 5: 7.7}. Do the following operations."
      ],
      "metadata": {
        "id": "5klPVvYX2-0n"
      }
    },
    {
      "cell_type": "code",
      "source": [
        "# (i) WAP to add new entry in D; key=8 and value is 8.8\n",
        "D = {1: 5.6, 2: 7.8, 3: 6.6, 4: 8.7, 5: 7.7}\n",
        "D[8] = 8.8\n",
        "\n",
        "# (ii) WAP to remove key=2.\n",
        "D = {1: 5.6, 2: 7.8, 3: 6.6, 4: 8.7, 5: 7.7}\n",
        "del D[2]\n",
        "\n",
        "# (iii) WAP to check whether key=6 is present in D.\n",
        "D = {1: 5.6, 2: 7.8, 3: 6.6, 4: 8.7, 5: 7.7}\n",
        "key_present = 6 in D\n",
        "\n",
        "# (iv) WAP to count the number of elements present in D.\n",
        "D = {1: 5.6, 2: 7.8, 3: 6.6, 4: 8.7, 5: 7.7}\n",
        "count = len(D)\n",
        "\n",
        "# (v) WAP to add all the values present in D.\n",
        "D = {1: 5.6, 2: 7.8, 3: 6.6, 4: 8.7, 5: 7.7}\n",
        "sum_values = sum(D.values())\n",
        "\n",
        "# (vi) WAP to update the value of 3 to 7.1.\n",
        "D = {1: 5.6, 2: 7.8, 3: 6.6, 4: 8.7, 5: 7.7}\n",
        "D[3] = 7.1\n",
        "\n",
        "# (vii) WAP to clear the dictionary.\n",
        "D = {1: 5.6, 2: 7.8, 3: 6.6, 4: 8.7, 5: 7.7}\n",
        "D.clear()\n",
        "\n",
        "print(D)\n"
      ],
      "metadata": {
        "colab": {
          "base_uri": "https://localhost:8080/"
        },
        "id": "Az1soIIM3BFZ",
        "outputId": "85cc3411-07df-4e63-e504-38ce24096fb4"
      },
      "execution_count": 5,
      "outputs": [
        {
          "output_type": "stream",
          "name": "stdout",
          "text": [
            "{}\n"
          ]
        }
      ]
    },
    {
      "cell_type": "markdown",
      "source": [
        "S1 is a set defined as S1= [10, 20, 30, 40, 50, 60].\n",
        "S2 is a set defined as S2= [40, 50, 60, 70, 80, 90].\n",
        "Perform following operations."
      ],
      "metadata": {
        "id": "3phaHfGe3oU5"
      }
    },
    {
      "cell_type": "code",
      "source": [
        "# (i) WAP to add 55 and 66 in Set S1.\n",
        "S1 = {10, 20, 30, 40, 50, 60}\n",
        "S1.add(55)\n",
        "S1.add(66)\n",
        "\n",
        "# (ii) WAP to remove 10 and 30 from Set S1.\n",
        "S1 = {10, 20, 30, 40, 50, 60}\n",
        "S1.remove(10)\n",
        "S1.remove(30)\n",
        "\n",
        "# (iii) WAP to check whether 40 is present in S1.\n",
        "S1 = {10, 20, 30, 40, 50, 60}\n",
        "present = 40 in S1\n",
        "\n",
        "# (iv) WAP to find the union between S1 and S2.\n",
        "S1 = {10, 20, 30, 40, 50, 60}\n",
        "S2 = {40, 50, 60, 70, 80, 90}\n",
        "union = S1.union(S2)\n",
        "\n",
        "# (v) WAP to find the intersection between S1 and S2.\n",
        "S1 = {10, 20, 30, 40, 50, 60}\n",
        "S2 = {40, 50, 60, 70, 80, 90}\n",
        "intersection = S1.intersection(S2)\n",
        "\n",
        "# (vi) WAP to find the S1 - S2\n",
        "S1 = {10, 20, 30, 40, 50, 60}\n",
        "S2 = {40, 50, 60, 70, 80, 90}\n",
        "difference = S1 - S2\n",
        "\n",
        "print(difference)"
      ],
      "metadata": {
        "colab": {
          "base_uri": "https://localhost:8080/"
        },
        "id": "nzkv2xti3YQ5",
        "outputId": "cfea5451-5bb9-4d01-bca0-f0b2871cbbe6"
      },
      "execution_count": 7,
      "outputs": [
        {
          "output_type": "stream",
          "name": "stdout",
          "text": [
            "{10, 20, 30}\n"
          ]
        }
      ]
    },
    {
      "cell_type": "code",
      "source": [
        "#q4\n",
        "import random\n",
        "import math as m\n",
        "\n",
        "# (i) WAP to print 100 random strings whose length is between 6 and 8.\n",
        "def generate_random_string(length):\n",
        "    letters = \"abcdefghijklmnopqrstuvwxyz\"\n",
        "    return ''.join(random.choice(letters) for _ in range(length))\n",
        "\n",
        "for elem in range(100):\n",
        "    random_length = random.randint(6, 8)\n",
        "    random_string = generate_random_string(random_length)\n",
        "    print(random_string)\n",
        "\n",
        "# (ii) WAP to print all prime numbers between 600 and 800.\n",
        "def is_prime(num):\n",
        "    if num < 2:\n",
        "        return False\n",
        "    for i in range(2, int(m.sqrt(num)) + 1):\n",
        "        if num % i == 0:\n",
        "            return False\n",
        "    return True\n",
        "\n",
        "for num in range(600, 801):\n",
        "    if is_prime(num):\n",
        "        print(num)\n",
        "\n",
        "# (iii) WAP to print all numbers between 100 and 1000 that are divisible by 7 and 9.\n",
        "for num in range(100, 1001):\n",
        "    if num % 7 == 0 and num % 9 == 0:\n",
        "        print(num)\n"
      ],
      "metadata": {
        "colab": {
          "base_uri": "https://localhost:8080/"
        },
        "id": "hierYWbD4Ppw",
        "outputId": "5a064a98-a105-433c-c3ad-02b8aaacf975"
      },
      "execution_count": 8,
      "outputs": [
        {
          "output_type": "stream",
          "name": "stdout",
          "text": [
            "ijjkhvrs\n",
            "klyqcnv\n",
            "vpcltwx\n",
            "mblpnqth\n",
            "ylpyjag\n",
            "qistur\n",
            "vwesvqi\n",
            "essgxkb\n",
            "tkgtmf\n",
            "bsauynx\n",
            "ycankp\n",
            "fgdxbwt\n",
            "mosivi\n",
            "bvkkufg\n",
            "uylgefo\n",
            "vvcgujy\n",
            "zogxyuo\n",
            "eafzacm\n",
            "hlufbqdu\n",
            "fpdpgdej\n",
            "mdputo\n",
            "xqcrwljj\n",
            "xfxmoz\n",
            "cuvoxdy\n",
            "vcfuzny\n",
            "lzdltev\n",
            "xnuwilc\n",
            "hyoscwd\n",
            "psoyvbt\n",
            "dplimexj\n",
            "rhkhstm\n",
            "hkjnxrwd\n",
            "snygaugl\n",
            "xabcylpj\n",
            "glzfhglo\n",
            "lmdtxga\n",
            "aeuplas\n",
            "ebnnjng\n",
            "jlkpkgz\n",
            "rmqedph\n",
            "auyihef\n",
            "bfkkxkdq\n",
            "qbcevj\n",
            "dskqud\n",
            "zsasly\n",
            "ltetamlt\n",
            "evbqwlm\n",
            "bovurm\n",
            "wbwupu\n",
            "cgtair\n",
            "wiaqnu\n",
            "hgwbrh\n",
            "dangpts\n",
            "knlwey\n",
            "bvoqgsms\n",
            "jrbxza\n",
            "nsghkju\n",
            "lqcpkz\n",
            "pjuhdnik\n",
            "lzjdie\n",
            "ugvrhw\n",
            "avzgao\n",
            "tbchodzk\n",
            "eujfqe\n",
            "vzdwxj\n",
            "bpdqydf\n",
            "jiyhtclp\n",
            "zkfsavl\n",
            "uwmlmd\n",
            "exrtbfmh\n",
            "axbxiexw\n",
            "cuzewntr\n",
            "cugtmp\n",
            "tzqfrta\n",
            "gkaetf\n",
            "vlnwjek\n",
            "xfrmetyw\n",
            "fmaovzwe\n",
            "okrabty\n",
            "buhdyf\n",
            "yfkfpvsi\n",
            "xhiplasf\n",
            "bkujayr\n",
            "qcoptfbn\n",
            "wjwghfmw\n",
            "utxyraug\n",
            "krmezeg\n",
            "vnfknnc\n",
            "jnbtowbu\n",
            "dzshyud\n",
            "jpmzrjur\n",
            "lueuhi\n",
            "kaxowg\n",
            "jsjhieuo\n",
            "xgcnmdgk\n",
            "usyozry\n",
            "ksxftz\n",
            "vyextb\n",
            "icavli\n",
            "xmvqpl\n",
            "601\n",
            "607\n",
            "613\n",
            "617\n",
            "619\n",
            "631\n",
            "641\n",
            "643\n",
            "647\n",
            "653\n",
            "659\n",
            "661\n",
            "673\n",
            "677\n",
            "683\n",
            "691\n",
            "701\n",
            "709\n",
            "719\n",
            "727\n",
            "733\n",
            "739\n",
            "743\n",
            "751\n",
            "757\n",
            "761\n",
            "769\n",
            "773\n",
            "787\n",
            "797\n",
            "126\n",
            "189\n",
            "252\n",
            "315\n",
            "378\n",
            "441\n",
            "504\n",
            "567\n",
            "630\n",
            "693\n",
            "756\n",
            "819\n",
            "882\n",
            "945\n"
          ]
        }
      ]
    },
    {
      "cell_type": "code",
      "source": [
        "#q5\n",
        "import random\n",
        "\n",
        "# Create two lists of 10 random numbers between 10 and 30\n",
        "list1 = random.sample(range(10, 31), 10)\n",
        "list2 = random.sample(range(10, 31), 10)\n",
        "\n",
        "print(\"List 1:\", list1)\n",
        "print(\"List 2:\", list2)\n",
        "\n",
        "# (i) Common numbers in the two lists\n",
        "common_numbers = list(set(list1) & set(list2))\n",
        "print(\"Common numbers:\", common_numbers)\n",
        "\n",
        "# (ii) Unique numbers in both lists\n",
        "unique_numbers = list(set(list1) ^ set(list2))\n",
        "print(\"Unique numbers:\", unique_numbers)\n",
        "\n",
        "# (iii) Minimum in both lists\n",
        "min_value = min(min(list1), min(list2))\n",
        "print(\"Minimum value:\", min_value)\n",
        "\n",
        "# (iv) Maximum in both lists\n",
        "max_value = max(max(list1), max(list2))\n",
        "print(\"Maximum value:\", max_value)\n",
        "\n",
        "# (v) Sum of both lists\n",
        "sum_values = sum(list1) + sum(list2)\n",
        "print(\"Sum of both lists:\", sum_values)\n"
      ],
      "metadata": {
        "colab": {
          "base_uri": "https://localhost:8080/"
        },
        "id": "ZH4NOCCf41uF",
        "outputId": "49df7581-f277-49e4-bac9-e13420ffcd31"
      },
      "execution_count": 10,
      "outputs": [
        {
          "output_type": "stream",
          "name": "stdout",
          "text": [
            "List 1: [28, 14, 11, 21, 16, 22, 19, 30, 20, 26]\n",
            "List 2: [26, 14, 15, 27, 21, 11, 28, 22, 29, 16]\n",
            "Common numbers: [11, 14, 16, 21, 22, 26, 28]\n",
            "Unique numbers: [15, 19, 20, 27, 29, 30]\n",
            "Minimum value: 11\n",
            "Maximum value: 30\n",
            "Sum of both lists: 416\n"
          ]
        }
      ]
    },
    {
      "cell_type": "code",
      "source": [
        "#q6\n",
        "import random\n",
        "\n",
        "# Create a list of 100 random numbers between 100 and 900\n",
        "numbers = random.sample(range(100, 901), 100)\n",
        "\n",
        "# (i) All odd numbers\n",
        "odd_numbers = [num for num in numbers if num % 2 != 0]\n",
        "print(\"Odd numbers:\", odd_numbers)\n",
        "\n",
        "# (ii) All even numbers\n",
        "even_numbers = [num for num in numbers if num % 2 == 0]\n",
        "print(\"Even numbers:\", even_numbers)\n",
        "\n",
        "# (iii) All prime numbers\n",
        "def is_prime(num):\n",
        "    if num < 2:\n",
        "        return False\n",
        "    for i in range(2, int(num ** 0.5) + 1):\n",
        "        if num % i == 0:\n",
        "            return False\n",
        "    return True\n",
        "\n",
        "prime_numbers = [num for num in numbers if is_prime(num)]\n",
        "print(\"Prime numbers:\", prime_numbers)\n"
      ],
      "metadata": {
        "colab": {
          "base_uri": "https://localhost:8080/"
        },
        "id": "w_FmehIf5M2k",
        "outputId": "794abd41-d9c0-4f6c-dd88-10c16c123041"
      },
      "execution_count": 11,
      "outputs": [
        {
          "output_type": "stream",
          "name": "stdout",
          "text": [
            "Odd numbers: [709, 569, 493, 723, 133, 161, 649, 145, 285, 117, 785, 693, 121, 147, 811, 327, 627, 719, 725, 495, 349, 177, 885, 875, 183, 557, 587, 559, 309, 273, 461, 159, 399, 201, 699, 759, 323, 865, 521, 129, 463, 635, 775, 491, 393, 529, 595, 395, 489, 341, 475, 175]\n",
            "Even numbers: [174, 586, 218, 298, 900, 494, 782, 664, 398, 748, 674, 880, 256, 888, 870, 508, 372, 886, 628, 336, 258, 396, 614, 268, 248, 146, 846, 432, 590, 724, 652, 468, 876, 738, 808, 848, 172, 368, 244, 874, 744, 292, 316, 784, 582, 536, 434, 388]\n",
            "Prime numbers: [709, 569, 811, 719, 349, 557, 587, 461, 521, 463, 491]\n"
          ]
        }
      ]
    },
    {
      "cell_type": "code",
      "source": [
        "#q7\n",
        "D = {1: \"One\", 2: \"Two\", 3: \"Three\", 4: \"Four\", 5: \"Five\"}\n",
        "\n",
        "with open(\"dictionary_output.txt\", \"w\") as file:\n",
        "    for key, value in D.items():\n",
        "        file.write(str(key) + \", \" + value + \"\\n\")\n"
      ],
      "metadata": {
        "id": "YarXqtGk5oOx"
      },
      "execution_count": 12,
      "outputs": []
    },
    {
      "cell_type": "code",
      "source": [
        "#q8\n",
        "L = [\"One\", \"Two\", \"Three\", \"Four\", \"Five\"]\n",
        "\n",
        "with open(\"list_output.txt\", \"w\") as file:\n",
        "    for element in L:\n",
        "        length = len(element)\n",
        "        file.write(element + \", \" + str(length) + \"\\n\")\n"
      ],
      "metadata": {
        "id": "dtdMJX-e6ASe"
      },
      "execution_count": 13,
      "outputs": []
    },
    {
      "cell_type": "code",
      "source": [
        "import random\n",
        "import time\n",
        "import math as m\n",
        "\n",
        "# Q9: Write to the file 100 random strings whose length is between 10 and 15.\n",
        "with open(\"random_strings.txt\", \"w\") as file:\n",
        "    for _ in range(100):\n",
        "        random_length = random.randint(10, 15)\n",
        "        random_string = ''.join(random.choices('abcdefghijklmnopqrstuvwxyz', k=random_length))\n",
        "        file.write(random_string + \"\\n\")\n",
        "\n",
        "# Q10: Write to the file all prime numbers between 600 and 800.\n",
        "def is_prime(num):\n",
        "    if num < 2:\n",
        "        return False\n",
        "    for i in range(2, int(m.sqrt(num)) + 1):\n",
        "        if num % i == 0:\n",
        "            return False\n",
        "    return True\n",
        "\n",
        "with open(\"prime_numbers.txt\", \"w\") as file:\n",
        "    for num in range(600, 801):\n",
        "        if is_prime(num):\n",
        "            file.write(str(num) + \"\\n\")\n",
        "\n",
        "# Q11: Calculate the time taken by a program.\n",
        "start_time = time.time()\n",
        "\n",
        "for i in range(10):\n",
        "  print(i)\n",
        "\n",
        "end_time = time.time()\n",
        "execution_time = end_time - start_time\n",
        "print(\"Execution time:\", execution_time, \"seconds\")\n"
      ],
      "metadata": {
        "colab": {
          "base_uri": "https://localhost:8080/"
        },
        "id": "VhdScy746Ibb",
        "outputId": "bc15224d-675b-4149-dafb-48ef9c1c802e"
      },
      "execution_count": 14,
      "outputs": [
        {
          "output_type": "stream",
          "name": "stdout",
          "text": [
            "0\n",
            "1\n",
            "2\n",
            "3\n",
            "4\n",
            "5\n",
            "6\n",
            "7\n",
            "8\n",
            "9\n",
            "Execution time: 0.007498264312744141 seconds\n"
          ]
        }
      ]
    },
    {
      "cell_type": "code",
      "source": [
        "import random\n",
        "import time\n",
        "import matplotlib.pyplot as plt\n",
        "\n",
        "# Function to sort a list and measure the time taken\n",
        "def sort_list_and_measure_time(lst):\n",
        "    start_time = time.time()\n",
        "    lst.sort()\n",
        "    end_time = time.time()\n",
        "    return end_time - start_time\n",
        "\n",
        "# Initialize the lists for number of elements and time taken\n",
        "num_elements = [5000, 10000, 15000, 20000, 25000]\n",
        "time_taken = []\n",
        "\n",
        "# Sort lists with varying lengths and measure the time taken\n",
        "for n in num_elements:\n",
        "    lst = random.sample(range(n), n)  # Generate a list of random numbers\n",
        "    t = sort_list_and_measure_time(lst)\n",
        "    time_taken.append(t)\n",
        "\n",
        "# Plot the graph\n",
        "plt.plot(num_elements, time_taken, 'bo-')\n",
        "plt.xlabel('Number of Elements')\n",
        "plt.ylabel('Time Taken (seconds)')\n",
        "plt.title('Sorting Time vs Number of Elements')\n",
        "plt.show()\n"
      ],
      "metadata": {
        "colab": {
          "base_uri": "https://localhost:8080/",
          "height": 472
        },
        "id": "ruWvYcAH6nSs",
        "outputId": "e1ee8122-085a-4436-eb83-995b661c5c8d"
      },
      "execution_count": 15,
      "outputs": [
        {
          "output_type": "display_data",
          "data": {
            "text/plain": [
              "<Figure size 640x480 with 1 Axes>"
            ],
            "image/png": "[encoded data removed]"
          },
          "metadata": {}
        }
      ]
    },
    {
      "cell_type": "code",
      "source": [
        "#q13\n",
        "student_marks = {\n",
        "    \"Ravi\": [90, 85, 92, 88, 94],\n",
        "    \"Sneha\": [82, 80, 78, 85, 88],\n",
        "    \"Arun\": [92, 88, 90, 85, 80],\n",
        "    \"Divya\": [78, 80, 82, 84, 88],\n",
        "    \"Neha\": [85, 86, 90, 88, 92]\n",
        "}\n",
        "\n",
        "\n",
        "average_marks = {student: sum(marks) / len(marks) for student, marks in student_marks.items()}\n",
        "\n",
        "\n",
        "max_average_student = max(average_marks, key=average_marks.get)\n",
        "min_average_student = min(average_marks, key=average_marks.get)\n",
        "\n",
        "\n",
        "print(\"Student with maximum average marks:\", max_average_student)\n",
        "print(\"Student with minimum average marks:\", min_average_student)\n"
      ],
      "metadata": {
        "colab": {
          "base_uri": "https://localhost:8080/"
        },
        "id": "2TrAvtA-7b6R",
        "outputId": "d9e4dc64-4043-4b01-eb7a-a4d0694c5949"
      },
      "execution_count": 16,
      "outputs": [
        {
          "output_type": "stream",
          "name": "stdout",
          "text": [
            "Student with maximum average marks: Ravi\n",
            "Student with minimum average marks: Divya\n"
          ]
        }
      ]
    }
  ]
}