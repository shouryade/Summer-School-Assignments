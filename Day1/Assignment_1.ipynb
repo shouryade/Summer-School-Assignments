{
  "nbformat": 4,
  "nbformat_minor": 0,
  "metadata": {
    "colab": {
      "provenance": [],
      "authorship_tag": "ABX9TyOrC5hes2UM6OHpKpBItHkb",
      "include_colab_link": true
    },
    "kernelspec": {
      "name": "python3",
      "display_name": "Python 3"
    },
    "language_info": {
      "name": "python"
    }
  },
  "cells": [
    {
      "cell_type": "markdown",
      "metadata": {
        "id": "view-in-github",
        "colab_type": "text"
      },
      "source": [
        "<a href=\"https://colab.research.google.com/github/shouryade/Summer-School-Assignments/blob/main/Day1/Assignment_1.ipynb\" target=\"_parent\"><img src=\"https://colab.research.google.com/assets/colab-badge.svg\" alt=\"Open In Colab\"/></a>"
      ]
    },
    {
      "cell_type": "markdown",
      "source": [
        "L is a list defined as L= [11, 12, 13, 14]. Perform the following operations."
      ],
      "metadata": {
        "id": "glcJb1Tn0_JM"
      }
    },
    {
      "cell_type": "code",
      "execution_count": 1,
      "metadata": {
        "id": "vEcuBfdo0s-d"
      },
      "outputs": [],
      "source": [
        "\n",
        "# (i) WAP to add 50 and 60 to L.\n",
        "L = [11, 12, 13, 14]\n",
        "L.append(50)\n",
        "L.append(60)\n",
        "\n",
        "# (ii) WAP to remove 11 and 13 from L.\n",
        "L = [11, 12, 13, 14]\n",
        "L.remove(11)\n",
        "L.remove(13)\n",
        "\n",
        "# (iii) WAP to sort L in ascending order.\n",
        "L = [11, 12, 13, 14]\n",
        "L.sort()\n",
        "\n",
        "# (iv) WAP to sort L in descending order.\n",
        "L = [11, 12, 13, 14]\n",
        "L.sort(reverse=True)\n",
        "\n",
        "# (v) WAP to search for 13 in L.\n",
        "L = [11, 12, 13, 14]\n",
        "found = 13 in L\n",
        "\n",
        "# (vi) WAP to count the number of elements present in L.\n",
        "L = [11, 12, 13, 14]\n",
        "count = len(L)\n",
        "\n",
        "# (vii) WAP to sum all the elements in L.\n",
        "L = [11, 12, 13, 14]\n",
        "sum_elements = sum(L)\n",
        "\n",
        "# (viii) WAP to sum all ODD numbers in L.\n",
        "L = [11, 12, 13, 14]\n",
        "sum_odd = sum(num for num in L if num % 2 != 0)\n",
        "\n",
        "# (ix) WAP to sum all EVEN numbers in L.\n",
        "L = [11, 12, 13, 14]\n",
        "sum_even = sum(num for num in L if num % 2 == 0)\n",
        "\n",
        "# (x) WAP to sum all PRIME numbers in L.\n",
        "L = [11, 12, 13, 14]\n",
        "def is_prime(num):\n",
        "    if num < 2:\n",
        "        return False\n",
        "    for i in range(2, int(num ** 0.5) + 1):\n",
        "        if num % i == 0:\n",
        "            return False\n",
        "    return True\n",
        "\n",
        "sum_prime = sum(num for num in L if is_prime(num))\n",
        "\n",
        "# (xi) WAP to clear all the elements in L.\n",
        "L = [11, 12, 13, 14]\n",
        "L.clear()\n",
        "\n",
        "# (xii) WAP to delete L.\n",
        "L = [11, 12, 13, 14]\n",
        "del L\n"
      ]
    }
  ]
}