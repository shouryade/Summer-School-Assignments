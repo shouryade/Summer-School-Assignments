{
 "cells": [
  {
   "cell_type": "code",
   "execution_count": 1,
   "metadata": {},
   "outputs": [],
   "source": [
    "import numpy as np\n",
    "import cv2\n",
    "\n",
    "cap = cv2.VideoCapture(0)\n",
    "\n",
    "# Can Include a video file instead of camera\n",
    "# cap = cv2.VideoCapture('video.mp4')\n",
    "\n",
    "while True:\n",
    "    ret, frame = cap.read()    \n",
    "    cv2.imshow('frame', frame)\n",
    "    if cv2.waitKey(1) == ord('q'):\n",
    "        break\n",
    "\n",
    "cap.release()\n",
    "cv2.destroyAllWindows()"
   ]
  },
  {
   "cell_type": "code",
   "execution_count": 11,
   "metadata": {},
   "outputs": [],
   "source": [
    "# Fun Stuff\n",
    "import cv2 \n",
    "import numpy as np\n",
    "\n",
    "cap = cv2.VideoCapture(0)\n",
    "\n",
    "while True:\n",
    "    ret,frame = cap.read()\n",
    "    width = int(cap.get(3))\n",
    "    height = int(cap.get(4))\n",
    "    \n",
    "    img = np.zeros(frame.shape,np.uint8)\n",
    "    \n",
    "    img_resized = cv2.resize(frame,(0,0),fx=0.5,fy=0.5)\n",
    "\n",
    "    # img1 = cv2.rotate(img_resized,cv2.ROTATE_90_COUNTERCLOCKWISE)\n",
    "\n",
    "    img[:height//2,:width//2]=img_resized\n",
    "    img[height//2:,:width//2]=img_resized\n",
    "    img[:height//2,width//2:]=img_resized\n",
    "    img[height//2:,width//2:]=img_resized\n",
    "    cv2.imshow('frame',img)\n",
    "\n",
    "\n",
    "\n",
    "    if cv2.waitKey(0)==ord('q'):\n",
    "        break\n",
    "\n",
    "cap.release()\n",
    "cv2.destroyAllWindows()\n"
   ]
  }
 ],
 "metadata": {
  "kernelspec": {
   "display_name": "Python 3",
   "language": "python",
   "name": "python3"
  },
  "language_info": {
   "codemirror_mode": {
    "name": "ipython",
    "version": 3
   },
   "file_extension": ".py",
   "mimetype": "text/x-python",
   "name": "python",
   "nbconvert_exporter": "python",
   "pygments_lexer": "ipython3",
   "version": "3.11.3"
  },
  "orig_nbformat": 4
 },
 "nbformat": 4,
 "nbformat_minor": 2
}
