{
 "cells": [
  {
   "attachments": {},
   "cell_type": "markdown",
   "metadata": {},
   "source": [
    "#### Download images from https://unsample.net/\n",
    "```bash\n",
    "mkdir assets\n",
    "wget -O file.zip \"https://unsample.net/archive?count=50&width=1920&height=1080\"\n",
    "unzip file.zip -d assets/\n",
    "```"
   ]
  },
  {
   "cell_type": "code",
   "execution_count": 19,
   "metadata": {},
   "outputs": [],
   "source": [
    "import cv2\n",
    "import sys\n",
    "# load image\n",
    "img = cv2.imread(\"assets/image-10.jpg\")\n",
    "# IMREAD_COLOR loads the image in the BGR 8-bit format. This is the default that is used here. ==> -1\n",
    "# IMREAD_UNCHANGED loads the image as is (including the alpha channel if present) ==> 1\n",
    "# IMREAD_GRAYSCALE loads the image as an intensity one ==> 0\n",
    "\n",
    "# exception handling\n",
    "if img is None: \n",
    "    print(\"Image couldn't be opened!\")\n",
    "    sys.exit(\"Exiting\")\n"
   ]
  },
  {
   "cell_type": "code",
   "execution_count": 18,
   "metadata": {},
   "outputs": [],
   "source": [
    "# Displaying image in normal size\n",
    "cv2.imshow('Opened Image',img)\n",
    "key = cv2.waitKey(0)\n",
    "if key == ord(\"q\"):\n",
    "    cv2.destroyAllWindows()"
   ]
  },
  {
   "cell_type": "code",
   "execution_count": null,
   "metadata": {},
   "outputs": [],
   "source": [
    "#Resizing image\n",
    "img_resized = cv2.resize(img,(0,0),fx=0.5,fy=0.5)\n",
    "cv2.imshow('Resized Image',img_resized)\n",
    "key = cv2.waitKey(0)\n",
    "if key == ord(\"q\"):\n",
    "    cv2.destroyAllWindows()"
   ]
  },
  {
   "cell_type": "code",
   "execution_count": null,
   "metadata": {},
   "outputs": [],
   "source": [
    "# Rotate Image\n",
    "img_rotated = cv2.rotate(img,cv2.ROTATE_90_CLOCKWISE)\n",
    "cv2.imshow('Rotated Image',img_rotated)\n",
    "key = cv2.waitKey(0)\n",
    "if key == ord(\"q\"):\n",
    "    cv2.destroyAllWindows()\n",
    "if key ==ord(\"s\"):\n",
    "    cv2.imwrite(\"assets/rotated_image.jpg\",img_rotated)\n",
    "    cv2.destroyAllWindows()"
   ]
  },
  {
   "cell_type": "code",
   "execution_count": null,
   "metadata": {},
   "outputs": [],
   "source": [
    "# Image Representation -> reprsented as a NumPy array\n",
    "print(img)\n",
    "print(type(img))"
   ]
  },
  {
   "cell_type": "code",
   "execution_count": 12,
   "metadata": {},
   "outputs": [
    {
     "name": "stdout",
     "output_type": "stream",
     "text": [
      "(1080, 1920, 3)\n",
      "(1920, 1080, 3)\n"
     ]
    }
   ],
   "source": [
    "print(img.shape) \n",
    "# (1080, 1920, 3) -> height 1080 width 1920 channels of colour -> 3\n",
    "print(img_rotated.shape)"
   ]
  },
  {
   "cell_type": "code",
   "execution_count": 17,
   "metadata": {},
   "outputs": [],
   "source": [
    "# modification to the numpy array\n",
    "slices = img[400:700,600:900]\n",
    "img[200:500,800:1100] = slices\n",
    "cv2.imshow('Opened Image',img)\n",
    "key = cv2.waitKey(0)\n",
    "if key == ord(\"q\"):\n",
    "    cv2.destroyAllWindows()\n"
   ]
  }
 ],
 "metadata": {
  "kernelspec": {
   "display_name": "Python 3",
   "language": "python",
   "name": "python3"
  },
  "language_info": {
   "codemirror_mode": {
    "name": "ipython",
    "version": 3
   },
   "file_extension": ".py",
   "mimetype": "text/x-python",
   "name": "python",
   "nbconvert_exporter": "python",
   "pygments_lexer": "ipython3",
   "version": "3.11.3"
  },
  "orig_nbformat": 4
 },
 "nbformat": 4,
 "nbformat_minor": 2
}
